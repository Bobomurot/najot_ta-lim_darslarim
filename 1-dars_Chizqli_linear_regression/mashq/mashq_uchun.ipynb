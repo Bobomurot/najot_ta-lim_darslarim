{
 "cells": [
  {
   "cell_type": "code",
   "execution_count": 1,
   "metadata": {},
   "outputs": [
    {
     "name": "stdout",
     "output_type": "stream",
     "text": [
      "<class 'pandas.core.frame.DataFrame'>\n",
      "RangeIndex: 150 entries, 0 to 149\n",
      "Data columns (total 14 columns):\n",
      " #   Column             Non-Null Count  Dtype  \n",
      "---  ------             --------------  -----  \n",
      " 0   Age                150 non-null    int64  \n",
      " 1   Gender             150 non-null    int64  \n",
      " 2   Heart_Rate, Pulse  150 non-null    int64  \n",
      " 3   SystBP             150 non-null    int64  \n",
      " 4   DiasBP             150 non-null    int64  \n",
      " 5   Height (sm)        150 non-null    int64  \n",
      " 6   Weight (kg)        150 non-null    int64  \n",
      " 7   HTN                150 non-null    int64  \n",
      " 8   Smoking            150 non-null    int64  \n",
      " 9   FHHD               150 non-null    int64  \n",
      " 10  Obesity            150 non-null    int64  \n",
      " 11  Diabetes           150 non-null    int64  \n",
      " 12  Hemoglobin, HGB    150 non-null    float64\n",
      " 13  target             150 non-null    int64  \n",
      "dtypes: float64(1), int64(13)\n",
      "memory usage: 16.5 KB\n",
      "None\n"
     ]
    },
    {
     "name": "stderr",
     "output_type": "stream",
     "text": [
      "C:\\Users\\BOBOMUROT\\AppData\\Local\\Temp\\ipykernel_7256\\2585086755.py:5: FutureWarning: Downcasting behavior in `replace` is deprecated and will be removed in a future version. To retain the old behavior, explicitly call `result.infer_objects(copy=False)`. To opt-in to the future behavior, set `pd.set_option('future.no_silent_downcasting', True)`\n",
      "  data['target'] = data['target'].replace({'Presence': 1, 'Absence': 0})\n"
     ]
    }
   ],
   "source": [
    "import pandas as pd\n",
    "\n",
    "data = pd.read_csv(\"yangi_data_set2 - yangi_data_set2.csv\")\n",
    "\n",
    "data['target'] = data['target'].replace({'Presence': 1, 'Absence': 0})\n",
    "\n",
    "data.to_csv(\"updates_dataset.csv\", index=False)\n",
    "\n",
    "print(data.info())\n",
    "\n",
    "#salom"
   ]
  },
  {
   "cell_type": "code",
   "execution_count": null,
   "metadata": {},
   "outputs": [],
   "source": []
  },
  {
   "cell_type": "code",
   "execution_count": null,
   "metadata": {},
   "outputs": [],
   "source": []
  },
  {
   "cell_type": "code",
   "execution_count": null,
   "metadata": {},
   "outputs": [],
   "source": []
  },
  {
   "cell_type": "code",
   "execution_count": null,
   "metadata": {},
   "outputs": [],
   "source": []
  },
  {
   "cell_type": "code",
   "execution_count": null,
   "metadata": {},
   "outputs": [],
   "source": []
  },
  {
   "cell_type": "code",
   "execution_count": null,
   "metadata": {},
   "outputs": [],
   "source": []
  },
  {
   "cell_type": "code",
   "execution_count": null,
   "metadata": {},
   "outputs": [],
   "source": []
  },
  {
   "cell_type": "code",
   "execution_count": null,
   "metadata": {},
   "outputs": [],
   "source": []
  },
  {
   "cell_type": "code",
   "execution_count": null,
   "metadata": {},
   "outputs": [],
   "source": []
  }
 ],
 "metadata": {
  "kernelspec": {
   "display_name": "Python 3",
   "language": "python",
   "name": "python3"
  },
  "language_info": {
   "codemirror_mode": {
    "name": "ipython",
    "version": 3
   },
   "file_extension": ".py",
   "mimetype": "text/x-python",
   "name": "python",
   "nbconvert_exporter": "python",
   "pygments_lexer": "ipython3",
   "version": "3.12.5"
  }
 },
 "nbformat": 4,
 "nbformat_minor": 2
}
